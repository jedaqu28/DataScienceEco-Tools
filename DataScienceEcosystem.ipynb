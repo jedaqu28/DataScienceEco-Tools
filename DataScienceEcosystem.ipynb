{
 "cells": [
  {
   "cell_type": "markdown",
   "id": "941e7488-441b-4c37-a8aa-11d5190d084b",
   "metadata": {},
   "source": [
    "# Data Science Tools and Ecosystem"
   ]
  },
  {
   "cell_type": "markdown",
   "id": "449b025e-f25c-45b8-9dbe-7388f94ed598",
   "metadata": {},
   "source": [
    "The tools and ecoystem of data science will be described through this document."
   ]
  },
  {
   "cell_type": "markdown",
   "id": "5b311bb3",
   "metadata": {},
   "source": [
    "## Author\n",
    "Joey D'Aquila"
   ]
  },
  {
   "cell_type": "markdown",
   "id": "1b16d8d1",
   "metadata": {},
   "source": [
    "<b> Objectives: </b>\n",
    "* Demonstrate knowledge of the popular languages utilized in data science.\n",
    "* Demonstrate knowledge of commonly used libraries in data science.\n",
    "* Demonstrate knowlege of tools used in data science workflows and organization."
   ]
  },
  {
   "cell_type": "markdown",
   "id": "1593d702-f44b-41c6-b5a5-3e2216c50cf4",
   "metadata": {},
   "source": [
    "Some of the popular languages used in Data Science are the following:\n",
    "1. Python\n",
    "2. R\n",
    "3. Julia"
   ]
  },
  {
   "cell_type": "markdown",
   "id": "24fb2609-b4d6-4fd1-b035-e457bb921a7b",
   "metadata": {},
   "source": [
    "Some of the commonly used libraries in Data Science are the following:\n",
    "1. PyTorch\n",
    "2. TensorFlow\n",
    "3. Pandas"
   ]
  },
  {
   "cell_type": "markdown",
   "id": "27526519-a943-40b3-8f0d-7bcc63c6bfba",
   "metadata": {},
   "source": [
    "| Data Science Tools |\n",
    "|-------------------|\n",
    "| Github |\n",
    "| Anaconda Navigator |\n",
    "| Jupyter Notebooks|\n"
   ]
  },
  {
   "cell_type": "markdown",
   "id": "bc373a99-2f74-4735-8d21-e4433f835c0a",
   "metadata": {},
   "source": [
    "### Below are a few examples of evaluating arithmetic expressions in Python.\n"
   ]
  },
  {
   "cell_type": "code",
   "execution_count": 2,
   "id": "7c99f5ae-b02d-40fc-a36a-974f35369ed3",
   "metadata": {
    "tags": []
   },
   "outputs": [
    {
     "data": {
      "text/plain": [
       "17"
      ]
     },
     "execution_count": 2,
     "metadata": {},
     "output_type": "execute_result"
    }
   ],
   "source": [
    "# This is an arithmetic expression that multiplies and then adds together integers\n",
    "(3*4)+5"
   ]
  },
  {
   "cell_type": "code",
   "execution_count": 6,
   "id": "c7b87f02-819d-40f4-b3a4-b3bff2a06884",
   "metadata": {
    "tags": []
   },
   "outputs": [
    {
     "name": "stdout",
     "output_type": "stream",
     "text": [
      "Conversion to minutes 3.3333333333333335\n"
     ]
    }
   ],
   "source": [
    "# This will convert 200 minutes to hours by diving by 60\n",
    "\n",
    "#enter minutes into x\n",
    "x = 200\n",
    "#convert x variable into minutes\n",
    "y = x/60\n",
    "print(\"Conversion to minutes\",y)\n"
   ]
  },
  {
   "cell_type": "code",
   "execution_count": null,
   "id": "047ed0a3-6269-4b38-b3a8-c10c7abc1275",
   "metadata": {},
   "outputs": [],
   "source": []
  }
 ],
 "metadata": {
  "kernelspec": {
   "display_name": "Python 3 (ipykernel)",
   "language": "python",
   "name": "python3"
  },
  "language_info": {
   "codemirror_mode": {
    "name": "ipython",
    "version": 3
   },
   "file_extension": ".py",
   "mimetype": "text/x-python",
   "name": "python",
   "nbconvert_exporter": "python",
   "pygments_lexer": "ipython3",
   "version": "3.11.5"
  }
 },
 "nbformat": 4,
 "nbformat_minor": 5
}
